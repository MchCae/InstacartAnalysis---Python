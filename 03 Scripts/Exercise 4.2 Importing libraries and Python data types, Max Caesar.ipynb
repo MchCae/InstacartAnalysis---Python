{
 "cells": [
  {
   "cell_type": "markdown",
   "id": "5a7048e5",
   "metadata": {},
   "source": [
    "# Tasks\n",
    "\n",
    "#### 1: Create a folder for your Achievement 4 project following the structure recommended in this Exercise.\n",
    "\n",
    "#### 2: Within your “Scripts” folder, create a Jupyter notebook for this Exercise and name it according to the recommended naming convention.\n",
    "\n",
    "#### 3: Install the pandas and NumPy libraries using your command prompt (Anaconda Prompt for PC, Terminal for Mac).\n",
    "\n",
    "#### 4: Add a section header to your notebook for importing libraries.\n",
    "\n",
    "#### 5: In the cell beneath the section header, import the pandas, NumPy, and os libraries. Ensure you include a comment in your code.\n",
    "\n",
    "#### 6: Add a second section header to your notebook for working with Python data types.\n",
    "\n",
    "#### 7: Code 3 different ways of reaching a result of 100 by adding or subtracting numeric variables.\n",
    "\n",
    "#### 8: Code 2 floating-point variables and divide them by each other.\n",
    "\n",
    "#### 9: Construct a short word made of separate strings (you’ll need to concatenate some strings!).\n",
    "\n",
    "#### 10: Construct 2 short sentences made of separate strings.\n",
    "\n",
    "#### 11: Save your Jupyter file by clicking on the Save icon highlighted below: \n",
    "\n",
    "#### 12: Locate your project folder on your device, compress it as a zip file (right-click the folder and select Add to Archive), then submit the zip file for your tutor to review."
   ]
  },
  {
   "cell_type": "markdown",
   "id": "62b9c16f",
   "metadata": {},
   "source": [
    "# 01. Importing libraries"
   ]
  },
  {
   "cell_type": "code",
   "execution_count": 2,
   "id": "595ef86e",
   "metadata": {},
   "outputs": [],
   "source": [
    "# Import libraries\n",
    "import pandas as pd\n",
    "import numpy as np\n",
    "import os"
   ]
  },
  {
   "cell_type": "markdown",
   "id": "daa654f9",
   "metadata": {},
   "source": [
    "## 02 Data Types"
   ]
  },
  {
   "cell_type": "markdown",
   "id": "2bd4735e",
   "metadata": {},
   "source": [
    "## Integer"
   ]
  },
  {
   "cell_type": "markdown",
   "id": "4cd3cec7",
   "metadata": {},
   "source": [
    "#### 7: Code 3 different ways of reaching a result of 100 by adding or subtracting numeric variables."
   ]
  },
  {
   "cell_type": "code",
   "execution_count": 1,
   "id": "b95bdb20",
   "metadata": {},
   "outputs": [],
   "source": [
    "x = 50"
   ]
  },
  {
   "cell_type": "code",
   "execution_count": 2,
   "id": "8cb2bc9b",
   "metadata": {},
   "outputs": [],
   "source": [
    "b = 50"
   ]
  },
  {
   "cell_type": "code",
   "execution_count": 3,
   "id": "ebe09a7f",
   "metadata": {},
   "outputs": [
    {
     "data": {
      "text/plain": [
       "100"
      ]
     },
     "execution_count": 3,
     "metadata": {},
     "output_type": "execute_result"
    }
   ],
   "source": [
    "x + b"
   ]
  },
  {
   "cell_type": "code",
   "execution_count": 4,
   "id": "d6e1333a",
   "metadata": {},
   "outputs": [],
   "source": [
    "y = 75"
   ]
  },
  {
   "cell_type": "code",
   "execution_count": 5,
   "id": "501b5423",
   "metadata": {},
   "outputs": [],
   "source": [
    "z = 25"
   ]
  },
  {
   "cell_type": "code",
   "execution_count": 6,
   "id": "da6996d7",
   "metadata": {},
   "outputs": [
    {
     "data": {
      "text/plain": [
       "100"
      ]
     },
     "execution_count": 6,
     "metadata": {},
     "output_type": "execute_result"
    }
   ],
   "source": [
    "y + z"
   ]
  },
  {
   "cell_type": "code",
   "execution_count": 7,
   "id": "296ef679",
   "metadata": {},
   "outputs": [],
   "source": [
    "a = 130"
   ]
  },
  {
   "cell_type": "code",
   "execution_count": 8,
   "id": "13444368",
   "metadata": {},
   "outputs": [],
   "source": [
    "c = 30"
   ]
  },
  {
   "cell_type": "code",
   "execution_count": 11,
   "id": "6cf97cbb",
   "metadata": {},
   "outputs": [
    {
     "name": "stdout",
     "output_type": "stream",
     "text": [
      "100\n"
     ]
    }
   ],
   "source": [
    "print(a - c)"
   ]
  },
  {
   "cell_type": "markdown",
   "id": "4c9517a8",
   "metadata": {},
   "source": [
    "## Floating-Point Numbers"
   ]
  },
  {
   "cell_type": "markdown",
   "id": "c939676c",
   "metadata": {},
   "source": [
    "#### 8: Code 2 floating-point variables and divide them by each other."
   ]
  },
  {
   "cell_type": "code",
   "execution_count": 10,
   "id": "2946f8d1",
   "metadata": {},
   "outputs": [],
   "source": [
    "d = 200.5"
   ]
  },
  {
   "cell_type": "code",
   "execution_count": 12,
   "id": "207f55e6",
   "metadata": {},
   "outputs": [],
   "source": [
    "e = 30.754"
   ]
  },
  {
   "cell_type": "code",
   "execution_count": 13,
   "id": "19f2f680",
   "metadata": {},
   "outputs": [
    {
     "data": {
      "text/plain": [
       "6.519477141184886"
      ]
     },
     "execution_count": 13,
     "metadata": {},
     "output_type": "execute_result"
    }
   ],
   "source": [
    "d / e"
   ]
  },
  {
   "cell_type": "markdown",
   "id": "0521f074",
   "metadata": {},
   "source": [
    "## Strings"
   ]
  },
  {
   "cell_type": "markdown",
   "id": "eb4f29e0",
   "metadata": {},
   "source": [
    "#### 9: Construct a short word made of separate strings (you’ll need to concatenate some strings!)."
   ]
  },
  {
   "cell_type": "code",
   "execution_count": 17,
   "id": "d0adfac5",
   "metadata": {},
   "outputs": [],
   "source": [
    "f = 'Peo'"
   ]
  },
  {
   "cell_type": "code",
   "execution_count": 18,
   "id": "6136b78e",
   "metadata": {},
   "outputs": [],
   "source": [
    "g = 'ple'"
   ]
  },
  {
   "cell_type": "code",
   "execution_count": 19,
   "id": "71695df4",
   "metadata": {},
   "outputs": [
    {
     "data": {
      "text/plain": [
       "'People'"
      ]
     },
     "execution_count": 19,
     "metadata": {},
     "output_type": "execute_result"
    }
   ],
   "source": [
    "f + g"
   ]
  },
  {
   "cell_type": "markdown",
   "id": "28542dfd",
   "metadata": {},
   "source": [
    "#### 10: Construct 2 short sentences made of separate strings."
   ]
  },
  {
   "cell_type": "code",
   "execution_count": 24,
   "id": "db930b72",
   "metadata": {},
   "outputs": [],
   "source": [
    "h = 'Python is '"
   ]
  },
  {
   "cell_type": "code",
   "execution_count": 27,
   "id": "d6a9ada7",
   "metadata": {},
   "outputs": [],
   "source": [
    "i = 'very fun.'"
   ]
  },
  {
   "cell_type": "code",
   "execution_count": 28,
   "id": "09c31831",
   "metadata": {},
   "outputs": [
    {
     "name": "stdout",
     "output_type": "stream",
     "text": [
      "Python is very fun.\n"
     ]
    }
   ],
   "source": [
    "print(h + i)"
   ]
  },
  {
   "cell_type": "code",
   "execution_count": 29,
   "id": "22162821",
   "metadata": {},
   "outputs": [],
   "source": [
    "j = 'I really need '"
   ]
  },
  {
   "cell_type": "code",
   "execution_count": 30,
   "id": "4571ca3e",
   "metadata": {},
   "outputs": [],
   "source": [
    "k = 'to find the darkmode.'"
   ]
  },
  {
   "cell_type": "code",
   "execution_count": 31,
   "id": "f1a56b70",
   "metadata": {},
   "outputs": [
    {
     "data": {
      "text/plain": [
       "'I really need to find the darkmode.'"
      ]
     },
     "execution_count": 31,
     "metadata": {},
     "output_type": "execute_result"
    }
   ],
   "source": [
    "j + k"
   ]
  }
 ],
 "metadata": {
  "kernelspec": {
   "display_name": "Python 3 (ipykernel)",
   "language": "python",
   "name": "python3"
  },
  "language_info": {
   "codemirror_mode": {
    "name": "ipython",
    "version": 3
   },
   "file_extension": ".py",
   "mimetype": "text/x-python",
   "name": "python",
   "nbconvert_exporter": "python",
   "pygments_lexer": "ipython3",
   "version": "3.11.5"
  }
 },
 "nbformat": 4,
 "nbformat_minor": 5
}
